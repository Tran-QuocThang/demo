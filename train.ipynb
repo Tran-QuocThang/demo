{
 "cells": [
  {
   "cell_type": "code",
   "execution_count": 1,
   "metadata": {
    "_cell_guid": "b1076dfc-b9ad-4769-8c92-a6c4dae69d19",
    "_uuid": "8f2839f25d086af736a60e9eeb907d3b93b6e0e5",
    "execution": {
     "iopub.execute_input": "2023-09-03T13:21:31.353280Z",
     "iopub.status.busy": "2023-09-03T13:21:31.352895Z",
     "iopub.status.idle": "2023-09-03T13:21:31.359085Z",
     "shell.execute_reply": "2023-09-03T13:21:31.357967Z",
     "shell.execute_reply.started": "2023-09-03T13:21:31.353250Z"
    },
    "trusted": true
   },
   "outputs": [
    {
     "name": "stdout",
     "output_type": "stream",
     "text": [
      "Requirement already satisfied: numpy in c:\\users\\admin\\appdata\\local\\programs\\python\\python311\\lib\\site-packages (2.0.2)\n",
      "Requirement already satisfied: opencv-python in c:\\users\\admin\\appdata\\local\\programs\\python\\python311\\lib\\site-packages (4.10.0.84)\n",
      "Requirement already satisfied: matplotlib in c:\\users\\admin\\appdata\\local\\programs\\python\\python311\\lib\\site-packages (3.9.2)\n",
      "Requirement already satisfied: contourpy>=1.0.1 in c:\\users\\admin\\appdata\\local\\programs\\python\\python311\\lib\\site-packages (from matplotlib) (1.3.1)\n",
      "Requirement already satisfied: cycler>=0.10 in c:\\users\\admin\\appdata\\local\\programs\\python\\python311\\lib\\site-packages (from matplotlib) (0.12.1)\n",
      "Requirement already satisfied: fonttools>=4.22.0 in c:\\users\\admin\\appdata\\local\\programs\\python\\python311\\lib\\site-packages (from matplotlib) (4.55.0)\n",
      "Requirement already satisfied: kiwisolver>=1.3.1 in c:\\users\\admin\\appdata\\local\\programs\\python\\python311\\lib\\site-packages (from matplotlib) (1.4.7)\n",
      "Requirement already satisfied: packaging>=20.0 in c:\\users\\admin\\appdata\\local\\programs\\python\\python311\\lib\\site-packages (from matplotlib) (24.2)\n",
      "Requirement already satisfied: pillow>=8 in c:\\users\\admin\\appdata\\local\\programs\\python\\python311\\lib\\site-packages (from matplotlib) (11.0.0)\n",
      "Requirement already satisfied: pyparsing>=2.3.1 in c:\\users\\admin\\appdata\\local\\programs\\python\\python311\\lib\\site-packages (from matplotlib) (3.2.0)\n",
      "Requirement already satisfied: python-dateutil>=2.7 in c:\\users\\admin\\appdata\\local\\programs\\python\\python311\\lib\\site-packages (from matplotlib) (2.9.0.post0)\n",
      "Requirement already satisfied: six>=1.5 in c:\\users\\admin\\appdata\\local\\programs\\python\\python311\\lib\\site-packages (from python-dateutil>=2.7->matplotlib) (1.16.0)\n",
      "Note: you may need to restart the kernel to use updated packages.\n"
     ]
    },
    {
     "name": "stderr",
     "output_type": "stream",
     "text": [
      "\n",
      "[notice] A new release of pip available: 22.3 -> 24.3.1\n",
      "[notice] To update, run: python.exe -m pip install --upgrade pip\n",
      "\n",
      "[notice] A new release of pip available: 22.3 -> 24.3.1\n",
      "[notice] To update, run: python.exe -m pip install --upgrade pip\n"
     ]
    },
    {
     "name": "stdout",
     "output_type": "stream",
     "text": [
      "Requirement already satisfied: keras in c:\\users\\admin\\appdata\\local\\programs\\python\\python311\\lib\\site-packages (3.6.0)Note: you may need to restart the kernel to use updated packages.\n",
      "\n",
      "Requirement already satisfied: absl-py in c:\\users\\admin\\appdata\\local\\programs\\python\\python311\\lib\\site-packages (from keras) (2.1.0)\n",
      "Requirement already satisfied: numpy in c:\\users\\admin\\appdata\\local\\programs\\python\\python311\\lib\\site-packages (from keras) (2.0.2)\n",
      "Requirement already satisfied: rich in c:\\users\\admin\\appdata\\local\\programs\\python\\python311\\lib\\site-packages (from keras) (13.9.4)\n",
      "Requirement already satisfied: namex in c:\\users\\admin\\appdata\\local\\programs\\python\\python311\\lib\\site-packages (from keras) (0.0.8)\n",
      "Requirement already satisfied: h5py in c:\\users\\admin\\appdata\\local\\programs\\python\\python311\\lib\\site-packages (from keras) (3.12.1)\n",
      "Requirement already satisfied: optree in c:\\users\\admin\\appdata\\local\\programs\\python\\python311\\lib\\site-packages (from keras) (0.13.1)\n",
      "Requirement already satisfied: ml-dtypes in c:\\users\\admin\\appdata\\local\\programs\\python\\python311\\lib\\site-packages (from keras) (0.4.1)\n",
      "Requirement already satisfied: packaging in c:\\users\\admin\\appdata\\local\\programs\\python\\python311\\lib\\site-packages (from keras) (24.2)\n",
      "Requirement already satisfied: typing-extensions>=4.5.0 in c:\\users\\admin\\appdata\\local\\programs\\python\\python311\\lib\\site-packages (from optree->keras) (4.12.2)\n",
      "Requirement already satisfied: markdown-it-py>=2.2.0 in c:\\users\\admin\\appdata\\local\\programs\\python\\python311\\lib\\site-packages (from rich->keras) (3.0.0)\n",
      "Requirement already satisfied: pygments<3.0.0,>=2.13.0 in c:\\users\\admin\\appdata\\local\\programs\\python\\python311\\lib\\site-packages (from rich->keras) (2.18.0)\n",
      "Requirement already satisfied: mdurl~=0.1 in c:\\users\\admin\\appdata\\local\\programs\\python\\python311\\lib\\site-packages (from markdown-it-py>=2.2.0->rich->keras) (0.1.2)\n"
     ]
    }
   ],
   "source": [
    "%pip install numpy opencv-python matplotlib\n",
    "%pip install keras\n",
    "\n",
    "import numpy as np\n",
    "import os\n",
    "import cv2\n",
    "import matplotlib.pyplot as plt\n",
    "import pickle\n",
    "\n",
    "DIRECTORY = os.path.join(os.getcwd(), 'dogscats', 'train')\n",
    "\n",
    "CATEGORIES = ['cats', 'dogs']"
   ]
  },
  {
   "cell_type": "code",
   "execution_count": 2,
   "metadata": {
    "execution": {
     "iopub.execute_input": "2023-09-03T13:21:32.745342Z",
     "iopub.status.busy": "2023-09-03T13:21:32.744879Z",
     "iopub.status.idle": "2023-09-03T13:23:38.824025Z",
     "shell.execute_reply": "2023-09-03T13:23:38.823052Z",
     "shell.execute_reply.started": "2023-09-03T13:21:32.745306Z"
    },
    "trusted": true
   },
   "outputs": [],
   "source": [
    "data = []\n",
    "for category in CATEGORIES:\n",
    "    path = os.path.join(DIRECTORY, category)\n",
    "    for img in os.listdir(path):\n",
    "        img_path = os.path.join(path, img)\n",
    "        label = CATEGORIES.index(category)\n",
    "        arr = cv2.imread(img_path, cv2.IMREAD_GRAYSCALE)\n",
    "        new_arr = cv2.resize(arr, (60, 60))\n",
    "        data.append([new_arr, label])"
   ]
  },
  {
   "cell_type": "code",
   "execution_count": 3,
   "metadata": {
    "execution": {
     "iopub.execute_input": "2023-09-03T13:23:38.858402Z",
     "iopub.status.busy": "2023-09-03T13:23:38.857969Z",
     "iopub.status.idle": "2023-09-03T13:23:38.897529Z",
     "shell.execute_reply": "2023-09-03T13:23:38.896202Z",
     "shell.execute_reply.started": "2023-09-03T13:23:38.858361Z"
    },
    "trusted": true
   },
   "outputs": [],
   "source": [
    "import random\n",
    "\n",
    "random.shuffle(data)"
   ]
  },
  {
   "cell_type": "code",
   "execution_count": 4,
   "metadata": {
    "execution": {
     "iopub.execute_input": "2023-09-03T13:23:38.900997Z",
     "iopub.status.busy": "2023-09-03T13:23:38.900008Z",
     "iopub.status.idle": "2023-09-03T13:23:38.993655Z",
     "shell.execute_reply": "2023-09-03T13:23:38.992320Z",
     "shell.execute_reply.started": "2023-09-03T13:23:38.900963Z"
    },
    "trusted": true
   },
   "outputs": [],
   "source": [
    "X = []\n",
    "y = []\n",
    "for features, label in data:\n",
    "    X.append(features)\n",
    "    y.append(label)\n",
    "X = np.array(X)\n",
    "y = np.array(y)"
   ]
  },
  {
   "cell_type": "code",
   "execution_count": 5,
   "metadata": {
    "execution": {
     "iopub.execute_input": "2023-09-03T13:23:39.186984Z",
     "iopub.status.busy": "2023-09-03T13:23:39.186607Z",
     "iopub.status.idle": "2023-09-03T13:23:39.418971Z",
     "shell.execute_reply": "2023-09-03T13:23:39.417544Z",
     "shell.execute_reply.started": "2023-09-03T13:23:39.186954Z"
    },
    "trusted": true
   },
   "outputs": [],
   "source": [
    "pickle.dump(X, open('X.pkl', 'wb'))\n",
    "pickle.dump(y, open('y.pkl', 'wb'))"
   ]
  },
  {
   "cell_type": "code",
   "execution_count": 6,
   "metadata": {
    "execution": {
     "iopub.execute_input": "2023-09-03T13:26:13.942672Z",
     "iopub.status.busy": "2023-09-03T13:26:13.942257Z",
     "iopub.status.idle": "2023-09-03T13:26:14.007449Z",
     "shell.execute_reply": "2023-09-03T13:26:14.005345Z",
     "shell.execute_reply.started": "2023-09-03T13:26:13.942640Z"
    },
    "trusted": true
   },
   "outputs": [],
   "source": [
    "X = pickle.load(open('X.pkl', 'rb'))\n",
    "y = pickle.load(open('y.pkl', 'rb'))"
   ]
  },
  {
   "cell_type": "code",
   "execution_count": 7,
   "metadata": {
    "execution": {
     "iopub.execute_input": "2023-09-03T13:26:28.078838Z",
     "iopub.status.busy": "2023-09-03T13:26:28.078430Z",
     "iopub.status.idle": "2023-09-03T13:26:28.423191Z",
     "shell.execute_reply": "2023-09-03T13:26:28.421831Z",
     "shell.execute_reply.started": "2023-09-03T13:26:28.078797Z"
    },
    "trusted": true
   },
   "outputs": [],
   "source": [
    "X = X/255\n",
    "X = X.reshape(-1, 60, 60, 1)\n"
   ]
  },
  {
   "cell_type": "code",
   "execution_count": 8,
   "metadata": {
    "execution": {
     "iopub.execute_input": "2023-09-03T13:26:37.286442Z",
     "iopub.status.busy": "2023-09-03T13:26:37.285389Z",
     "iopub.status.idle": "2023-09-03T13:26:47.696847Z",
     "shell.execute_reply": "2023-09-03T13:26:47.695836Z",
     "shell.execute_reply.started": "2023-09-03T13:26:37.286402Z"
    },
    "trusted": true
   },
   "outputs": [],
   "source": [
    "from keras.models import Sequential\n",
    "from keras.layers import Conv2D, MaxPooling2D, Dense, Flatten"
   ]
  },
  {
   "cell_type": "code",
   "execution_count": 9,
   "metadata": {
    "execution": {
     "iopub.execute_input": "2023-09-03T13:26:50.206901Z",
     "iopub.status.busy": "2023-09-03T13:26:50.206452Z",
     "iopub.status.idle": "2023-09-03T13:26:50.229253Z",
     "shell.execute_reply": "2023-09-03T13:26:50.228346Z",
     "shell.execute_reply.started": "2023-09-03T13:26:50.206866Z"
    },
    "trusted": true
   },
   "outputs": [
    {
     "name": "stderr",
     "output_type": "stream",
     "text": [
      "c:\\Users\\Admin\\AppData\\Local\\Programs\\Python\\Python311\\Lib\\site-packages\\keras\\src\\layers\\convolutional\\base_conv.py:107: UserWarning: Do not pass an `input_shape`/`input_dim` argument to a layer. When using Sequential models, prefer using an `Input(shape)` object as the first layer in the model instead.\n",
      "  super().__init__(activity_regularizer=activity_regularizer, **kwargs)\n"
     ]
    }
   ],
   "source": [
    "model = Sequential()\n",
    "\n",
    "model.add(Conv2D(64, (3,3), activation='relu', input_shape=(60, 60, 1)))\n",
    "model.add(MaxPooling2D((2,2)))\n",
    "\n",
    "model.add(Conv2D(64, (3,3), activation='relu'))\n",
    "model.add(MaxPooling2D((2,2)))\n",
    "\n",
    "model.add(Conv2D(128, (3,3), activation='relu'))\n",
    "model.add(MaxPooling2D((2,2)))\n",
    "\n",
    "model.add(Conv2D(128, (3,3), activation='relu'))\n",
    "model.add(MaxPooling2D((2,2)))\n",
    "\n",
    "model.add(Flatten())\n",
    "\n",
    "model.add(Dense(256, activation='relu'))\n",
    "model.add(Dense(256, activation='relu'))\n",
    "\n",
    "model.add(Dense(2, activation='softmax'))"
   ]
  },
  {
   "cell_type": "code",
   "execution_count": 10,
   "metadata": {
    "execution": {
     "iopub.execute_input": "2023-09-03T13:27:00.671765Z",
     "iopub.status.busy": "2023-09-03T13:27:00.671394Z",
     "iopub.status.idle": "2023-09-03T13:27:00.705356Z",
     "shell.execute_reply": "2023-09-03T13:27:00.704168Z",
     "shell.execute_reply.started": "2023-09-03T13:27:00.671737Z"
    },
    "trusted": true
   },
   "outputs": [],
   "source": [
    "model.compile(optimizer='adam',\n",
    "              loss='sparse_categorical_crossentropy',\n",
    "              metrics=['accuracy'])"
   ]
  },
  {
   "cell_type": "code",
   "execution_count": 11,
   "metadata": {
    "trusted": true
   },
   "outputs": [
    {
     "name": "stdout",
     "output_type": "stream",
     "text": [
      "Epoch 1/20\n",
      "\u001b[1m504/504\u001b[0m \u001b[32m━━━━━━━━━━━━━━━━━━━━\u001b[0m\u001b[37m\u001b[0m \u001b[1m107s\u001b[0m 198ms/step - accuracy: 0.5091 - loss: 0.6934 - val_accuracy: 0.4985 - val_loss: 0.6932\n",
      "Epoch 2/20\n",
      "\u001b[1m504/504\u001b[0m \u001b[32m━━━━━━━━━━━━━━━━━━━━\u001b[0m\u001b[37m\u001b[0m \u001b[1m96s\u001b[0m 189ms/step - accuracy: 0.4993 - loss: 0.6932 - val_accuracy: 0.5015 - val_loss: 0.6931\n",
      "Epoch 3/20\n",
      "\u001b[1m504/504\u001b[0m \u001b[32m━━━━━━━━━━━━━━━━━━━━\u001b[0m\u001b[37m\u001b[0m \u001b[1m89s\u001b[0m 176ms/step - accuracy: 0.5016 - loss: 0.6937 - val_accuracy: 0.5314 - val_loss: 0.6906\n",
      "Epoch 4/20\n",
      "\u001b[1m504/504\u001b[0m \u001b[32m━━━━━━━━━━━━━━━━━━━━\u001b[0m\u001b[37m\u001b[0m \u001b[1m90s\u001b[0m 178ms/step - accuracy: 0.5373 - loss: 0.6872 - val_accuracy: 0.5685 - val_loss: 0.6755\n",
      "Epoch 5/20\n",
      "\u001b[1m504/504\u001b[0m \u001b[32m━━━━━━━━━━━━━━━━━━━━\u001b[0m\u001b[37m\u001b[0m \u001b[1m88s\u001b[0m 174ms/step - accuracy: 0.6272 - loss: 0.6501 - val_accuracy: 0.6525 - val_loss: 0.6183\n",
      "Epoch 6/20\n",
      "\u001b[1m504/504\u001b[0m \u001b[32m━━━━━━━━━━━━━━━━━━━━\u001b[0m\u001b[37m\u001b[0m \u001b[1m91s\u001b[0m 181ms/step - accuracy: 0.7047 - loss: 0.5710 - val_accuracy: 0.7419 - val_loss: 0.5390\n",
      "Epoch 7/20\n",
      "\u001b[1m504/504\u001b[0m \u001b[32m━━━━━━━━━━━━━━━━━━━━\u001b[0m\u001b[37m\u001b[0m \u001b[1m109s\u001b[0m 217ms/step - accuracy: 0.7458 - loss: 0.5182 - val_accuracy: 0.7563 - val_loss: 0.5017\n",
      "Epoch 8/20\n",
      "\u001b[1m504/504\u001b[0m \u001b[32m━━━━━━━━━━━━━━━━━━━━\u001b[0m\u001b[37m\u001b[0m \u001b[1m103s\u001b[0m 204ms/step - accuracy: 0.7796 - loss: 0.4607 - val_accuracy: 0.7567 - val_loss: 0.5037\n",
      "Epoch 9/20\n",
      "\u001b[1m504/504\u001b[0m \u001b[32m━━━━━━━━━━━━━━━━━━━━\u001b[0m\u001b[37m\u001b[0m \u001b[1m106s\u001b[0m 211ms/step - accuracy: 0.8001 - loss: 0.4288 - val_accuracy: 0.7810 - val_loss: 0.4600\n",
      "Epoch 10/20\n",
      "\u001b[1m504/504\u001b[0m \u001b[32m━━━━━━━━━━━━━━━━━━━━\u001b[0m\u001b[37m\u001b[0m \u001b[1m105s\u001b[0m 208ms/step - accuracy: 0.8344 - loss: 0.3722 - val_accuracy: 0.7837 - val_loss: 0.4591\n",
      "Epoch 11/20\n",
      "\u001b[1m504/504\u001b[0m \u001b[32m━━━━━━━━━━━━━━━━━━━━\u001b[0m\u001b[37m\u001b[0m \u001b[1m105s\u001b[0m 207ms/step - accuracy: 0.8447 - loss: 0.3497 - val_accuracy: 0.7909 - val_loss: 0.4491\n",
      "Epoch 12/20\n",
      "\u001b[1m504/504\u001b[0m \u001b[32m━━━━━━━━━━━━━━━━━━━━\u001b[0m\u001b[37m\u001b[0m \u001b[1m107s\u001b[0m 211ms/step - accuracy: 0.8645 - loss: 0.3112 - val_accuracy: 0.7832 - val_loss: 0.5047\n",
      "Epoch 13/20\n",
      "\u001b[1m504/504\u001b[0m \u001b[32m━━━━━━━━━━━━━━━━━━━━\u001b[0m\u001b[37m\u001b[0m \u001b[1m102s\u001b[0m 203ms/step - accuracy: 0.8740 - loss: 0.2869 - val_accuracy: 0.7947 - val_loss: 0.4916\n",
      "Epoch 14/20\n",
      "\u001b[1m504/504\u001b[0m \u001b[32m━━━━━━━━━━━━━━━━━━━━\u001b[0m\u001b[37m\u001b[0m \u001b[1m103s\u001b[0m 205ms/step - accuracy: 0.8891 - loss: 0.2533 - val_accuracy: 0.7938 - val_loss: 0.4908\n",
      "Epoch 15/20\n",
      "\u001b[1m504/504\u001b[0m \u001b[32m━━━━━━━━━━━━━━━━━━━━\u001b[0m\u001b[37m\u001b[0m \u001b[1m103s\u001b[0m 205ms/step - accuracy: 0.9022 - loss: 0.2292 - val_accuracy: 0.7860 - val_loss: 0.5407\n",
      "Epoch 16/20\n",
      "\u001b[1m504/504\u001b[0m \u001b[32m━━━━━━━━━━━━━━━━━━━━\u001b[0m\u001b[37m\u001b[0m \u001b[1m104s\u001b[0m 206ms/step - accuracy: 0.9218 - loss: 0.1865 - val_accuracy: 0.7880 - val_loss: 0.6013\n",
      "Epoch 17/20\n",
      "\u001b[1m504/504\u001b[0m \u001b[32m━━━━━━━━━━━━━━━━━━━━\u001b[0m\u001b[37m\u001b[0m \u001b[1m101s\u001b[0m 200ms/step - accuracy: 0.9347 - loss: 0.1592 - val_accuracy: 0.7857 - val_loss: 0.6636\n",
      "Epoch 18/20\n",
      "\u001b[1m504/504\u001b[0m \u001b[32m━━━━━━━━━━━━━━━━━━━━\u001b[0m\u001b[37m\u001b[0m \u001b[1m104s\u001b[0m 206ms/step - accuracy: 0.9423 - loss: 0.1478 - val_accuracy: 0.7773 - val_loss: 0.7283\n",
      "Epoch 19/20\n",
      "\u001b[1m504/504\u001b[0m \u001b[32m━━━━━━━━━━━━━━━━━━━━\u001b[0m\u001b[37m\u001b[0m \u001b[1m106s\u001b[0m 209ms/step - accuracy: 0.9536 - loss: 0.1168 - val_accuracy: 0.7795 - val_loss: 0.7584\n",
      "Epoch 20/20\n",
      "\u001b[1m504/504\u001b[0m \u001b[32m━━━━━━━━━━━━━━━━━━━━\u001b[0m\u001b[37m\u001b[0m \u001b[1m103s\u001b[0m 204ms/step - accuracy: 0.9535 - loss: 0.1210 - val_accuracy: 0.7883 - val_loss: 0.7203\n"
     ]
    },
    {
     "data": {
      "text/plain": [
       "<keras.src.callbacks.history.History at 0x1e1ad03c610>"
      ]
     },
     "execution_count": 11,
     "metadata": {},
     "output_type": "execute_result"
    }
   ],
   "source": [
    "model.fit(X, y, epochs=20, validation_split=0.3)\n"
   ]
  },
  {
   "cell_type": "code",
   "execution_count": 12,
   "metadata": {
    "execution": {
     "iopub.execute_input": "2023-09-03T13:44:56.824082Z",
     "iopub.status.busy": "2023-09-03T13:44:56.823656Z",
     "iopub.status.idle": "2023-09-03T13:44:58.224398Z",
     "shell.execute_reply": "2023-09-03T13:44:58.223159Z",
     "shell.execute_reply.started": "2023-09-03T13:44:56.824049Z"
    },
    "trusted": true
   },
   "outputs": [
    {
     "name": "stderr",
     "output_type": "stream",
     "text": [
      "WARNING:absl:You are saving your model as an HDF5 file via `model.save()` or `keras.saving.save_model(model)`. This file format is considered legacy. We recommend using instead the native Keras format, e.g. `model.save('my_model.keras')` or `keras.saving.save_model(model, 'my_model.keras')`. \n"
     ]
    }
   ],
   "source": [
    "model.save(\"model_trained.h5\")"
   ]
  }
 ],
 "metadata": {
  "kernelspec": {
   "display_name": "Python 3",
   "language": "python",
   "name": "python3"
  },
  "language_info": {
   "codemirror_mode": {
    "name": "ipython",
    "version": 3
   },
   "file_extension": ".py",
   "mimetype": "text/x-python",
   "name": "python",
   "nbconvert_exporter": "python",
   "pygments_lexer": "ipython3",
   "version": "3.11.0"
  }
 },
 "nbformat": 4,
 "nbformat_minor": 4
}
